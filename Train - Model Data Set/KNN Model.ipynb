{
  "cells": [
    {
      "cell_type": "code",
      "execution_count": 1,
      "metadata": {
        "id": "4TZZiyOwynHM"
      },
      "outputs": [],
      "source": [
        "import pandas as pd\n",
        "from sklearn.neighbors import NearestNeighbors"
      ]
    },
    {
      "cell_type": "code",
      "execution_count": 2,
      "metadata": {
        "id": "CpfTHlIiynHP"
      },
      "outputs": [],
      "source": [
        "# Load the datasets\n",
        "dataSetUpdate = pd.read_csv('https://drive.google.com/u/0/uc?id=1dDScB-Iy1Im4qzAkOBqRk29vHjlaljKY&export=download')\n",
        "userData = pd.read_csv('https://drive.google.com/u/0/uc?id=1cIlnGL_sgjm2VSaFLKFmDUKvFhWWZSbU&export=download')"
      ]
    },
    {
      "cell_type": "code",
      "execution_count": 3,
      "metadata": {
        "id": "ASpoBiOpynHQ"
      },
      "outputs": [],
      "source": [
        "# Preprocess the data\n",
        "dataSetUpdate_processed = pd.get_dummies(dataSetUpdate, columns=[\"jenisResto\"])"
      ]
    },
    {
      "cell_type": "code",
      "execution_count": 4,
      "metadata": {
        "id": "ziq1sNzhynHR"
      },
      "outputs": [],
      "source": [
        "# Define features and target\n",
        "features = [\"kadunganNutrisi (kal)\", \"hargaProduk\"]\n",
        "X = dataSetUpdate_processed[features]\n",
        "\n"
      ]
    },
    {
      "cell_type": "code",
      "execution_count": 5,
      "metadata": {
        "colab": {
          "base_uri": "https://localhost:8080/"
        },
        "id": "HAD0T6t1ynHR",
        "outputId": "fd9ae853-dcc0-4f0b-ade8-314e3b47625f"
      },
      "outputs": [
        {
          "output_type": "stream",
          "name": "stderr",
          "text": [
            "<ipython-input-5-5f4b8c43b08e>:2: SettingWithCopyWarning: \n",
            "A value is trying to be set on a copy of a slice from a DataFrame\n",
            "\n",
            "See the caveats in the documentation: https://pandas.pydata.org/pandas-docs/stable/user_guide/indexing.html#returning-a-view-versus-a-copy\n",
            "  X.dropna(inplace=True)\n"
          ]
        }
      ],
      "source": [
        "# Drop rows containing missing values\n",
        "X.dropna(inplace=True)"
      ]
    },
    {
      "cell_type": "code",
      "execution_count": 6,
      "metadata": {
        "colab": {
          "base_uri": "https://localhost:8080/",
          "height": 75
        },
        "id": "MeBFvamxynHS",
        "outputId": "7048b7a9-cc95-4ca1-9c88-25afcfed6d9b"
      },
      "outputs": [
        {
          "output_type": "execute_result",
          "data": {
            "text/plain": [
              "NearestNeighbors(n_neighbors=3)"
            ],
            "text/html": [
              "<style>#sk-container-id-1 {color: black;background-color: white;}#sk-container-id-1 pre{padding: 0;}#sk-container-id-1 div.sk-toggleable {background-color: white;}#sk-container-id-1 label.sk-toggleable__label {cursor: pointer;display: block;width: 100%;margin-bottom: 0;padding: 0.3em;box-sizing: border-box;text-align: center;}#sk-container-id-1 label.sk-toggleable__label-arrow:before {content: \"▸\";float: left;margin-right: 0.25em;color: #696969;}#sk-container-id-1 label.sk-toggleable__label-arrow:hover:before {color: black;}#sk-container-id-1 div.sk-estimator:hover label.sk-toggleable__label-arrow:before {color: black;}#sk-container-id-1 div.sk-toggleable__content {max-height: 0;max-width: 0;overflow: hidden;text-align: left;background-color: #f0f8ff;}#sk-container-id-1 div.sk-toggleable__content pre {margin: 0.2em;color: black;border-radius: 0.25em;background-color: #f0f8ff;}#sk-container-id-1 input.sk-toggleable__control:checked~div.sk-toggleable__content {max-height: 200px;max-width: 100%;overflow: auto;}#sk-container-id-1 input.sk-toggleable__control:checked~label.sk-toggleable__label-arrow:before {content: \"▾\";}#sk-container-id-1 div.sk-estimator input.sk-toggleable__control:checked~label.sk-toggleable__label {background-color: #d4ebff;}#sk-container-id-1 div.sk-label input.sk-toggleable__control:checked~label.sk-toggleable__label {background-color: #d4ebff;}#sk-container-id-1 input.sk-hidden--visually {border: 0;clip: rect(1px 1px 1px 1px);clip: rect(1px, 1px, 1px, 1px);height: 1px;margin: -1px;overflow: hidden;padding: 0;position: absolute;width: 1px;}#sk-container-id-1 div.sk-estimator {font-family: monospace;background-color: #f0f8ff;border: 1px dotted black;border-radius: 0.25em;box-sizing: border-box;margin-bottom: 0.5em;}#sk-container-id-1 div.sk-estimator:hover {background-color: #d4ebff;}#sk-container-id-1 div.sk-parallel-item::after {content: \"\";width: 100%;border-bottom: 1px solid gray;flex-grow: 1;}#sk-container-id-1 div.sk-label:hover label.sk-toggleable__label {background-color: #d4ebff;}#sk-container-id-1 div.sk-serial::before {content: \"\";position: absolute;border-left: 1px solid gray;box-sizing: border-box;top: 0;bottom: 0;left: 50%;z-index: 0;}#sk-container-id-1 div.sk-serial {display: flex;flex-direction: column;align-items: center;background-color: white;padding-right: 0.2em;padding-left: 0.2em;position: relative;}#sk-container-id-1 div.sk-item {position: relative;z-index: 1;}#sk-container-id-1 div.sk-parallel {display: flex;align-items: stretch;justify-content: center;background-color: white;position: relative;}#sk-container-id-1 div.sk-item::before, #sk-container-id-1 div.sk-parallel-item::before {content: \"\";position: absolute;border-left: 1px solid gray;box-sizing: border-box;top: 0;bottom: 0;left: 50%;z-index: -1;}#sk-container-id-1 div.sk-parallel-item {display: flex;flex-direction: column;z-index: 1;position: relative;background-color: white;}#sk-container-id-1 div.sk-parallel-item:first-child::after {align-self: flex-end;width: 50%;}#sk-container-id-1 div.sk-parallel-item:last-child::after {align-self: flex-start;width: 50%;}#sk-container-id-1 div.sk-parallel-item:only-child::after {width: 0;}#sk-container-id-1 div.sk-dashed-wrapped {border: 1px dashed gray;margin: 0 0.4em 0.5em 0.4em;box-sizing: border-box;padding-bottom: 0.4em;background-color: white;}#sk-container-id-1 div.sk-label label {font-family: monospace;font-weight: bold;display: inline-block;line-height: 1.2em;}#sk-container-id-1 div.sk-label-container {text-align: center;}#sk-container-id-1 div.sk-container {/* jupyter's `normalize.less` sets `[hidden] { display: none; }` but bootstrap.min.css set `[hidden] { display: none !important; }` so we also need the `!important` here to be able to override the default hidden behavior on the sphinx rendered scikit-learn.org. See: https://github.com/scikit-learn/scikit-learn/issues/21755 */display: inline-block !important;position: relative;}#sk-container-id-1 div.sk-text-repr-fallback {display: none;}</style><div id=\"sk-container-id-1\" class=\"sk-top-container\"><div class=\"sk-text-repr-fallback\"><pre>NearestNeighbors(n_neighbors=3)</pre><b>In a Jupyter environment, please rerun this cell to show the HTML representation or trust the notebook. <br />On GitHub, the HTML representation is unable to render, please try loading this page with nbviewer.org.</b></div><div class=\"sk-container\" hidden><div class=\"sk-item\"><div class=\"sk-estimator sk-toggleable\"><input class=\"sk-toggleable__control sk-hidden--visually\" id=\"sk-estimator-id-1\" type=\"checkbox\" checked><label for=\"sk-estimator-id-1\" class=\"sk-toggleable__label sk-toggleable__label-arrow\">NearestNeighbors</label><div class=\"sk-toggleable__content\"><pre>NearestNeighbors(n_neighbors=3)</pre></div></div></div></div></div>"
            ]
          },
          "metadata": {},
          "execution_count": 6
        }
      ],
      "source": [
        "# Create and fit the model\n",
        "knn = NearestNeighbors(n_neighbors=3)\n",
        "knn.fit(X)"
      ]
    },
    {
      "cell_type": "code",
      "execution_count": 7,
      "metadata": {
        "id": "FPqMSD-PynHT"
      },
      "outputs": [],
      "source": [
        "def recommend_meals(user_id, userData, dataSetUpdate):\n",
        "    import warnings\n",
        "    warnings.filterwarnings(\"ignore\", category=UserWarning)\n",
        "\n",
        "    user = userData.loc[userData[\"user\"] == user_id]\n",
        "    daily_calories = user[\"dailyCalories\"].values[0]\n",
        "    daily_budget = user[\"budged\"].values[0]\n",
        "\n",
        "    # Target calories for each meal\n",
        "    breakfast_target_calories = daily_calories * 0.25\n",
        "    lunch_target_calories = daily_calories * 0.35\n",
        "    dinner_target_calories = daily_calories * 0.4\n",
        "\n",
        "    # Target budget for each meal\n",
        "    breakfast_budget = daily_budget * 0.25\n",
        "    lunch_budget = daily_budget * 0.35\n",
        "    dinner_budget = daily_budget * 0.4\n",
        "\n",
        "    targets = [\n",
        "        (breakfast_target_calories, breakfast_budget),\n",
        "        (lunch_target_calories, lunch_budget),\n",
        "        (dinner_target_calories, dinner_budget)\n",
        "    ]\n",
        "\n",
        "    recommendations = []\n",
        "\n",
        "    for target in targets:\n",
        "        distances, indices = knn.kneighbors([target])\n",
        "        recommendations.append(dataSetUpdate.iloc[indices[0]])\n",
        "\n",
        "    return recommendations"
      ]
    },
    {
      "cell_type": "code",
      "execution_count": 8,
      "metadata": {
        "colab": {
          "base_uri": "https://localhost:8080/",
          "height": 701
        },
        "id": "v2RNM0k8ynHU",
        "outputId": "b2a55d5f-5b30-4881-8cd3-5ae444c60771"
      },
      "outputs": [
        {
          "output_type": "stream",
          "name": "stdout",
          "text": [
            "Breakfast:\n"
          ]
        },
        {
          "output_type": "display_data",
          "data": {
            "text/plain": [
              "        id                                    namaResto           jenisResto  \\\n",
              "4415  4416  Cireng Bandung Aneka Rasa, Food Court Progo              Jajanan   \n",
              "1201  1202                Solaria, Sidoarjo Town Square           Aneka nasi   \n",
              "1565  1566                     Warung Gentong, Sidoarjo  Chinese, Aneka nasi   \n",
              "\n",
              "                                            alamatResto  \\\n",
              "4415  Food Court Progo Dept Store, Lantai Dasar, Jl....   \n",
              "1201  Sidoarjo Town Square, Lantai 1, Jl. Jati Raya ...   \n",
              "1565  PKL GOR Sidoarjo, Jl. Ponti Raya, Sidoarjo Kot...   \n",
              "\n",
              "                                     namaProduk  kadunganNutrisi (kal)  \\\n",
              "4415                     Cireng isi Keju/ 3 Pcs                  375.0   \n",
              "1201                                 Prawn Ball                  302.0   \n",
              "1565  Nasi Goreng Kare Khas Nasi Goreng Gentong                  510.0   \n",
              "\n",
              "      hargaProduk                                   gambarProduk-src  \\\n",
              "4415      15000.0  data:image/gif;base64,R0lGODlhAQABAIAAAAAAAP//...   \n",
              "1201      21000.0  data:image/gif;base64,R0lGODlhAQABAIAAAAAAAP//...   \n",
              "1565      22500.0  data:image/gif;base64,R0lGODlhAQABAIAAAAAAAP//...   \n",
              "\n",
              "                            coordinates  \n",
              "4415          (-7.7991248, 110.3692895)  \n",
              "1201  (-7.445700500000001, 112.6981326)  \n",
              "1565  (-7.447539799999999, 112.7077789)  "
            ],
            "text/html": [
              "\n",
              "  <div id=\"df-dd4350fd-d151-408d-9639-d6b50666be15\">\n",
              "    <div class=\"colab-df-container\">\n",
              "      <div>\n",
              "<style scoped>\n",
              "    .dataframe tbody tr th:only-of-type {\n",
              "        vertical-align: middle;\n",
              "    }\n",
              "\n",
              "    .dataframe tbody tr th {\n",
              "        vertical-align: top;\n",
              "    }\n",
              "\n",
              "    .dataframe thead th {\n",
              "        text-align: right;\n",
              "    }\n",
              "</style>\n",
              "<table border=\"1\" class=\"dataframe\">\n",
              "  <thead>\n",
              "    <tr style=\"text-align: right;\">\n",
              "      <th></th>\n",
              "      <th>id</th>\n",
              "      <th>namaResto</th>\n",
              "      <th>jenisResto</th>\n",
              "      <th>alamatResto</th>\n",
              "      <th>namaProduk</th>\n",
              "      <th>kadunganNutrisi (kal)</th>\n",
              "      <th>hargaProduk</th>\n",
              "      <th>gambarProduk-src</th>\n",
              "      <th>coordinates</th>\n",
              "    </tr>\n",
              "  </thead>\n",
              "  <tbody>\n",
              "    <tr>\n",
              "      <th>4415</th>\n",
              "      <td>4416</td>\n",
              "      <td>Cireng Bandung Aneka Rasa, Food Court Progo</td>\n",
              "      <td>Jajanan</td>\n",
              "      <td>Food Court Progo Dept Store, Lantai Dasar, Jl....</td>\n",
              "      <td>Cireng isi Keju/ 3 Pcs</td>\n",
              "      <td>375.0</td>\n",
              "      <td>15000.0</td>\n",
              "      <td>data:image/gif;base64,R0lGODlhAQABAIAAAAAAAP//...</td>\n",
              "      <td>(-7.7991248, 110.3692895)</td>\n",
              "    </tr>\n",
              "    <tr>\n",
              "      <th>1201</th>\n",
              "      <td>1202</td>\n",
              "      <td>Solaria, Sidoarjo Town Square</td>\n",
              "      <td>Aneka nasi</td>\n",
              "      <td>Sidoarjo Town Square, Lantai 1, Jl. Jati Raya ...</td>\n",
              "      <td>Prawn Ball</td>\n",
              "      <td>302.0</td>\n",
              "      <td>21000.0</td>\n",
              "      <td>data:image/gif;base64,R0lGODlhAQABAIAAAAAAAP//...</td>\n",
              "      <td>(-7.445700500000001, 112.6981326)</td>\n",
              "    </tr>\n",
              "    <tr>\n",
              "      <th>1565</th>\n",
              "      <td>1566</td>\n",
              "      <td>Warung Gentong, Sidoarjo</td>\n",
              "      <td>Chinese, Aneka nasi</td>\n",
              "      <td>PKL GOR Sidoarjo, Jl. Ponti Raya, Sidoarjo Kot...</td>\n",
              "      <td>Nasi Goreng Kare Khas Nasi Goreng Gentong</td>\n",
              "      <td>510.0</td>\n",
              "      <td>22500.0</td>\n",
              "      <td>data:image/gif;base64,R0lGODlhAQABAIAAAAAAAP//...</td>\n",
              "      <td>(-7.447539799999999, 112.7077789)</td>\n",
              "    </tr>\n",
              "  </tbody>\n",
              "</table>\n",
              "</div>\n",
              "      <button class=\"colab-df-convert\" onclick=\"convertToInteractive('df-dd4350fd-d151-408d-9639-d6b50666be15')\"\n",
              "              title=\"Convert this dataframe to an interactive table.\"\n",
              "              style=\"display:none;\">\n",
              "        \n",
              "  <svg xmlns=\"http://www.w3.org/2000/svg\" height=\"24px\"viewBox=\"0 0 24 24\"\n",
              "       width=\"24px\">\n",
              "    <path d=\"M0 0h24v24H0V0z\" fill=\"none\"/>\n",
              "    <path d=\"M18.56 5.44l.94 2.06.94-2.06 2.06-.94-2.06-.94-.94-2.06-.94 2.06-2.06.94zm-11 1L8.5 8.5l.94-2.06 2.06-.94-2.06-.94L8.5 2.5l-.94 2.06-2.06.94zm10 10l.94 2.06.94-2.06 2.06-.94-2.06-.94-.94-2.06-.94 2.06-2.06.94z\"/><path d=\"M17.41 7.96l-1.37-1.37c-.4-.4-.92-.59-1.43-.59-.52 0-1.04.2-1.43.59L10.3 9.45l-7.72 7.72c-.78.78-.78 2.05 0 2.83L4 21.41c.39.39.9.59 1.41.59.51 0 1.02-.2 1.41-.59l7.78-7.78 2.81-2.81c.8-.78.8-2.07 0-2.86zM5.41 20L4 18.59l7.72-7.72 1.47 1.35L5.41 20z\"/>\n",
              "  </svg>\n",
              "      </button>\n",
              "      \n",
              "  <style>\n",
              "    .colab-df-container {\n",
              "      display:flex;\n",
              "      flex-wrap:wrap;\n",
              "      gap: 12px;\n",
              "    }\n",
              "\n",
              "    .colab-df-convert {\n",
              "      background-color: #E8F0FE;\n",
              "      border: none;\n",
              "      border-radius: 50%;\n",
              "      cursor: pointer;\n",
              "      display: none;\n",
              "      fill: #1967D2;\n",
              "      height: 32px;\n",
              "      padding: 0 0 0 0;\n",
              "      width: 32px;\n",
              "    }\n",
              "\n",
              "    .colab-df-convert:hover {\n",
              "      background-color: #E2EBFA;\n",
              "      box-shadow: 0px 1px 2px rgba(60, 64, 67, 0.3), 0px 1px 3px 1px rgba(60, 64, 67, 0.15);\n",
              "      fill: #174EA6;\n",
              "    }\n",
              "\n",
              "    [theme=dark] .colab-df-convert {\n",
              "      background-color: #3B4455;\n",
              "      fill: #D2E3FC;\n",
              "    }\n",
              "\n",
              "    [theme=dark] .colab-df-convert:hover {\n",
              "      background-color: #434B5C;\n",
              "      box-shadow: 0px 1px 3px 1px rgba(0, 0, 0, 0.15);\n",
              "      filter: drop-shadow(0px 1px 2px rgba(0, 0, 0, 0.3));\n",
              "      fill: #FFFFFF;\n",
              "    }\n",
              "  </style>\n",
              "\n",
              "      <script>\n",
              "        const buttonEl =\n",
              "          document.querySelector('#df-dd4350fd-d151-408d-9639-d6b50666be15 button.colab-df-convert');\n",
              "        buttonEl.style.display =\n",
              "          google.colab.kernel.accessAllowed ? 'block' : 'none';\n",
              "\n",
              "        async function convertToInteractive(key) {\n",
              "          const element = document.querySelector('#df-dd4350fd-d151-408d-9639-d6b50666be15');\n",
              "          const dataTable =\n",
              "            await google.colab.kernel.invokeFunction('convertToInteractive',\n",
              "                                                     [key], {});\n",
              "          if (!dataTable) return;\n",
              "\n",
              "          const docLinkHtml = 'Like what you see? Visit the ' +\n",
              "            '<a target=\"_blank\" href=https://colab.research.google.com/notebooks/data_table.ipynb>data table notebook</a>'\n",
              "            + ' to learn more about interactive tables.';\n",
              "          element.innerHTML = '';\n",
              "          dataTable['output_type'] = 'display_data';\n",
              "          await google.colab.output.renderOutput(dataTable, element);\n",
              "          const docLink = document.createElement('div');\n",
              "          docLink.innerHTML = docLinkHtml;\n",
              "          element.appendChild(docLink);\n",
              "        }\n",
              "      </script>\n",
              "    </div>\n",
              "  </div>\n",
              "  "
            ]
          },
          "metadata": {}
        },
        {
          "output_type": "stream",
          "name": "stdout",
          "text": [
            "Lunch:\n"
          ]
        },
        {
          "output_type": "display_data",
          "data": {
            "text/plain": [
              "        id                                 namaResto  \\\n",
              "4346  4347     Ross La Pempek Palembang, Mas Suharto   \n",
              "4        5  Angkringan Jogja Lumintu, Prof Dr Satrio   \n",
              "4538  4539                Rumah Makan Padang Andalas   \n",
              "\n",
              "                                jenisResto  \\\n",
              "4346                               Jajanan   \n",
              "4                               Aneka nasi   \n",
              "4538  Ayam & bebek, Aneka nasi, Cepat saji   \n",
              "\n",
              "                                            alamatResto  \\\n",
              "4346     Jl. Mas Suharto No. 29A, Danurejan, Yogyakarta   \n",
              "4         Jl. Prof Dr Satrio No. 275, Kuningan, Jakarta   \n",
              "4538  Jl. Mataram No. 8 Suryatmajan, Danurejan, Yogy...   \n",
              "\n",
              "                         namaProduk  kadunganNutrisi (kal)  hargaProduk  \\\n",
              "4346  Harga Promo Cuka Pempek 600ml                  660.0      18000.0   \n",
              "4     Nasi Ayam Goreng + Sate Kulit                  918.0      30000.0   \n",
              "4538          Nasi Box Udang Balado                  679.0      28000.0   \n",
              "\n",
              "                                       gambarProduk-src  \\\n",
              "4346  data:image/gif;base64,R0lGODlhAQABAIAAAAAAAP//...   \n",
              "4     data:image/gif;base64,R0lGODlhAQABAIAAAAAAAP//...   \n",
              "4538  data:image/gif;base64,R0lGODlhAQABAIAAAAAAAP//...   \n",
              "\n",
              "                            coordinates  \n",
              "4346            (-7.793394, 110.370928)  \n",
              "4              (-6.2183799, 106.819757)  \n",
              "4538  (-7.796309699999999, 110.3691408)  "
            ],
            "text/html": [
              "\n",
              "  <div id=\"df-fa445789-8494-4c6a-9812-8ae62c86686a\">\n",
              "    <div class=\"colab-df-container\">\n",
              "      <div>\n",
              "<style scoped>\n",
              "    .dataframe tbody tr th:only-of-type {\n",
              "        vertical-align: middle;\n",
              "    }\n",
              "\n",
              "    .dataframe tbody tr th {\n",
              "        vertical-align: top;\n",
              "    }\n",
              "\n",
              "    .dataframe thead th {\n",
              "        text-align: right;\n",
              "    }\n",
              "</style>\n",
              "<table border=\"1\" class=\"dataframe\">\n",
              "  <thead>\n",
              "    <tr style=\"text-align: right;\">\n",
              "      <th></th>\n",
              "      <th>id</th>\n",
              "      <th>namaResto</th>\n",
              "      <th>jenisResto</th>\n",
              "      <th>alamatResto</th>\n",
              "      <th>namaProduk</th>\n",
              "      <th>kadunganNutrisi (kal)</th>\n",
              "      <th>hargaProduk</th>\n",
              "      <th>gambarProduk-src</th>\n",
              "      <th>coordinates</th>\n",
              "    </tr>\n",
              "  </thead>\n",
              "  <tbody>\n",
              "    <tr>\n",
              "      <th>4346</th>\n",
              "      <td>4347</td>\n",
              "      <td>Ross La Pempek Palembang, Mas Suharto</td>\n",
              "      <td>Jajanan</td>\n",
              "      <td>Jl. Mas Suharto No. 29A, Danurejan, Yogyakarta</td>\n",
              "      <td>Harga Promo Cuka Pempek 600ml</td>\n",
              "      <td>660.0</td>\n",
              "      <td>18000.0</td>\n",
              "      <td>data:image/gif;base64,R0lGODlhAQABAIAAAAAAAP//...</td>\n",
              "      <td>(-7.793394, 110.370928)</td>\n",
              "    </tr>\n",
              "    <tr>\n",
              "      <th>4</th>\n",
              "      <td>5</td>\n",
              "      <td>Angkringan Jogja Lumintu, Prof Dr Satrio</td>\n",
              "      <td>Aneka nasi</td>\n",
              "      <td>Jl. Prof Dr Satrio No. 275, Kuningan, Jakarta</td>\n",
              "      <td>Nasi Ayam Goreng + Sate Kulit</td>\n",
              "      <td>918.0</td>\n",
              "      <td>30000.0</td>\n",
              "      <td>data:image/gif;base64,R0lGODlhAQABAIAAAAAAAP//...</td>\n",
              "      <td>(-6.2183799, 106.819757)</td>\n",
              "    </tr>\n",
              "    <tr>\n",
              "      <th>4538</th>\n",
              "      <td>4539</td>\n",
              "      <td>Rumah Makan Padang Andalas</td>\n",
              "      <td>Ayam &amp; bebek, Aneka nasi, Cepat saji</td>\n",
              "      <td>Jl. Mataram No. 8 Suryatmajan, Danurejan, Yogy...</td>\n",
              "      <td>Nasi Box Udang Balado</td>\n",
              "      <td>679.0</td>\n",
              "      <td>28000.0</td>\n",
              "      <td>data:image/gif;base64,R0lGODlhAQABAIAAAAAAAP//...</td>\n",
              "      <td>(-7.796309699999999, 110.3691408)</td>\n",
              "    </tr>\n",
              "  </tbody>\n",
              "</table>\n",
              "</div>\n",
              "      <button class=\"colab-df-convert\" onclick=\"convertToInteractive('df-fa445789-8494-4c6a-9812-8ae62c86686a')\"\n",
              "              title=\"Convert this dataframe to an interactive table.\"\n",
              "              style=\"display:none;\">\n",
              "        \n",
              "  <svg xmlns=\"http://www.w3.org/2000/svg\" height=\"24px\"viewBox=\"0 0 24 24\"\n",
              "       width=\"24px\">\n",
              "    <path d=\"M0 0h24v24H0V0z\" fill=\"none\"/>\n",
              "    <path d=\"M18.56 5.44l.94 2.06.94-2.06 2.06-.94-2.06-.94-.94-2.06-.94 2.06-2.06.94zm-11 1L8.5 8.5l.94-2.06 2.06-.94-2.06-.94L8.5 2.5l-.94 2.06-2.06.94zm10 10l.94 2.06.94-2.06 2.06-.94-2.06-.94-.94-2.06-.94 2.06-2.06.94z\"/><path d=\"M17.41 7.96l-1.37-1.37c-.4-.4-.92-.59-1.43-.59-.52 0-1.04.2-1.43.59L10.3 9.45l-7.72 7.72c-.78.78-.78 2.05 0 2.83L4 21.41c.39.39.9.59 1.41.59.51 0 1.02-.2 1.41-.59l7.78-7.78 2.81-2.81c.8-.78.8-2.07 0-2.86zM5.41 20L4 18.59l7.72-7.72 1.47 1.35L5.41 20z\"/>\n",
              "  </svg>\n",
              "      </button>\n",
              "      \n",
              "  <style>\n",
              "    .colab-df-container {\n",
              "      display:flex;\n",
              "      flex-wrap:wrap;\n",
              "      gap: 12px;\n",
              "    }\n",
              "\n",
              "    .colab-df-convert {\n",
              "      background-color: #E8F0FE;\n",
              "      border: none;\n",
              "      border-radius: 50%;\n",
              "      cursor: pointer;\n",
              "      display: none;\n",
              "      fill: #1967D2;\n",
              "      height: 32px;\n",
              "      padding: 0 0 0 0;\n",
              "      width: 32px;\n",
              "    }\n",
              "\n",
              "    .colab-df-convert:hover {\n",
              "      background-color: #E2EBFA;\n",
              "      box-shadow: 0px 1px 2px rgba(60, 64, 67, 0.3), 0px 1px 3px 1px rgba(60, 64, 67, 0.15);\n",
              "      fill: #174EA6;\n",
              "    }\n",
              "\n",
              "    [theme=dark] .colab-df-convert {\n",
              "      background-color: #3B4455;\n",
              "      fill: #D2E3FC;\n",
              "    }\n",
              "\n",
              "    [theme=dark] .colab-df-convert:hover {\n",
              "      background-color: #434B5C;\n",
              "      box-shadow: 0px 1px 3px 1px rgba(0, 0, 0, 0.15);\n",
              "      filter: drop-shadow(0px 1px 2px rgba(0, 0, 0, 0.3));\n",
              "      fill: #FFFFFF;\n",
              "    }\n",
              "  </style>\n",
              "\n",
              "      <script>\n",
              "        const buttonEl =\n",
              "          document.querySelector('#df-fa445789-8494-4c6a-9812-8ae62c86686a button.colab-df-convert');\n",
              "        buttonEl.style.display =\n",
              "          google.colab.kernel.accessAllowed ? 'block' : 'none';\n",
              "\n",
              "        async function convertToInteractive(key) {\n",
              "          const element = document.querySelector('#df-fa445789-8494-4c6a-9812-8ae62c86686a');\n",
              "          const dataTable =\n",
              "            await google.colab.kernel.invokeFunction('convertToInteractive',\n",
              "                                                     [key], {});\n",
              "          if (!dataTable) return;\n",
              "\n",
              "          const docLinkHtml = 'Like what you see? Visit the ' +\n",
              "            '<a target=\"_blank\" href=https://colab.research.google.com/notebooks/data_table.ipynb>data table notebook</a>'\n",
              "            + ' to learn more about interactive tables.';\n",
              "          element.innerHTML = '';\n",
              "          dataTable['output_type'] = 'display_data';\n",
              "          await google.colab.output.renderOutput(dataTable, element);\n",
              "          const docLink = document.createElement('div');\n",
              "          docLink.innerHTML = docLinkHtml;\n",
              "          element.appendChild(docLink);\n",
              "        }\n",
              "      </script>\n",
              "    </div>\n",
              "  </div>\n",
              "  "
            ]
          },
          "metadata": {}
        },
        {
          "output_type": "stream",
          "name": "stdout",
          "text": [
            "Dinner:\n"
          ]
        },
        {
          "output_type": "display_data",
          "data": {
            "text/plain": [
              "        id                                 namaResto  \\\n",
              "0        1  Angkringan Jogja Lumintu, Prof Dr Satrio   \n",
              "1289  1290                    Depot Mie 55, Sidoarjo   \n",
              "4147  4148       Kedai Kopi Mataram - Malioboro Mall   \n",
              "\n",
              "                         jenisResto  \\\n",
              "0                        Aneka nasi   \n",
              "1289    Aneka nasi, Bakmie, Chinese   \n",
              "4147  Minuman, Jajanan, Barat, Kopi   \n",
              "\n",
              "                                          alamatResto  \\\n",
              "0       Jl. Prof Dr Satrio No. 275, Kuningan, Jakarta   \n",
              "1289           Jl. Ponti Raya No 2, Buduran, Sidoarjo   \n",
              "4147  Malioboro Mall, Lantai 3 Taste Food. Jl Mataram   \n",
              "\n",
              "                                    namaProduk  kadunganNutrisi (kal)  \\\n",
              "0     Nasi Ayam Goreng Telor Dadar + Teh Pucuk                  701.0   \n",
              "1289                              Empal Goreng                  419.0   \n",
              "4147                       Spaghetti Bolognese                  377.0   \n",
              "\n",
              "      hargaProduk                                   gambarProduk-src  \\\n",
              "0         34000.0  data:image/gif;base64,R0lGODlhAQABAIAAAAAAAP//...   \n",
              "1289      27000.0  data:image/gif;base64,R0lGODlhAQABAIAAAAAAAP//...   \n",
              "4147      35000.0  data:image/gif;base64,R0lGODlhAQABAIAAAAAAAP//...   \n",
              "\n",
              "                            coordinates  \n",
              "0              (-6.2183799, 106.819757)  \n",
              "1289  (-7.448276099999999, 112.7044574)  \n",
              "4147          (-7.7939462, 110.3678543)  "
            ],
            "text/html": [
              "\n",
              "  <div id=\"df-9c17e7c5-42dd-4714-b1c4-8c7189cb159b\">\n",
              "    <div class=\"colab-df-container\">\n",
              "      <div>\n",
              "<style scoped>\n",
              "    .dataframe tbody tr th:only-of-type {\n",
              "        vertical-align: middle;\n",
              "    }\n",
              "\n",
              "    .dataframe tbody tr th {\n",
              "        vertical-align: top;\n",
              "    }\n",
              "\n",
              "    .dataframe thead th {\n",
              "        text-align: right;\n",
              "    }\n",
              "</style>\n",
              "<table border=\"1\" class=\"dataframe\">\n",
              "  <thead>\n",
              "    <tr style=\"text-align: right;\">\n",
              "      <th></th>\n",
              "      <th>id</th>\n",
              "      <th>namaResto</th>\n",
              "      <th>jenisResto</th>\n",
              "      <th>alamatResto</th>\n",
              "      <th>namaProduk</th>\n",
              "      <th>kadunganNutrisi (kal)</th>\n",
              "      <th>hargaProduk</th>\n",
              "      <th>gambarProduk-src</th>\n",
              "      <th>coordinates</th>\n",
              "    </tr>\n",
              "  </thead>\n",
              "  <tbody>\n",
              "    <tr>\n",
              "      <th>0</th>\n",
              "      <td>1</td>\n",
              "      <td>Angkringan Jogja Lumintu, Prof Dr Satrio</td>\n",
              "      <td>Aneka nasi</td>\n",
              "      <td>Jl. Prof Dr Satrio No. 275, Kuningan, Jakarta</td>\n",
              "      <td>Nasi Ayam Goreng Telor Dadar + Teh Pucuk</td>\n",
              "      <td>701.0</td>\n",
              "      <td>34000.0</td>\n",
              "      <td>data:image/gif;base64,R0lGODlhAQABAIAAAAAAAP//...</td>\n",
              "      <td>(-6.2183799, 106.819757)</td>\n",
              "    </tr>\n",
              "    <tr>\n",
              "      <th>1289</th>\n",
              "      <td>1290</td>\n",
              "      <td>Depot Mie 55, Sidoarjo</td>\n",
              "      <td>Aneka nasi, Bakmie, Chinese</td>\n",
              "      <td>Jl. Ponti Raya No 2, Buduran, Sidoarjo</td>\n",
              "      <td>Empal Goreng</td>\n",
              "      <td>419.0</td>\n",
              "      <td>27000.0</td>\n",
              "      <td>data:image/gif;base64,R0lGODlhAQABAIAAAAAAAP//...</td>\n",
              "      <td>(-7.448276099999999, 112.7044574)</td>\n",
              "    </tr>\n",
              "    <tr>\n",
              "      <th>4147</th>\n",
              "      <td>4148</td>\n",
              "      <td>Kedai Kopi Mataram - Malioboro Mall</td>\n",
              "      <td>Minuman, Jajanan, Barat, Kopi</td>\n",
              "      <td>Malioboro Mall, Lantai 3 Taste Food. Jl Mataram</td>\n",
              "      <td>Spaghetti Bolognese</td>\n",
              "      <td>377.0</td>\n",
              "      <td>35000.0</td>\n",
              "      <td>data:image/gif;base64,R0lGODlhAQABAIAAAAAAAP//...</td>\n",
              "      <td>(-7.7939462, 110.3678543)</td>\n",
              "    </tr>\n",
              "  </tbody>\n",
              "</table>\n",
              "</div>\n",
              "      <button class=\"colab-df-convert\" onclick=\"convertToInteractive('df-9c17e7c5-42dd-4714-b1c4-8c7189cb159b')\"\n",
              "              title=\"Convert this dataframe to an interactive table.\"\n",
              "              style=\"display:none;\">\n",
              "        \n",
              "  <svg xmlns=\"http://www.w3.org/2000/svg\" height=\"24px\"viewBox=\"0 0 24 24\"\n",
              "       width=\"24px\">\n",
              "    <path d=\"M0 0h24v24H0V0z\" fill=\"none\"/>\n",
              "    <path d=\"M18.56 5.44l.94 2.06.94-2.06 2.06-.94-2.06-.94-.94-2.06-.94 2.06-2.06.94zm-11 1L8.5 8.5l.94-2.06 2.06-.94-2.06-.94L8.5 2.5l-.94 2.06-2.06.94zm10 10l.94 2.06.94-2.06 2.06-.94-2.06-.94-.94-2.06-.94 2.06-2.06.94z\"/><path d=\"M17.41 7.96l-1.37-1.37c-.4-.4-.92-.59-1.43-.59-.52 0-1.04.2-1.43.59L10.3 9.45l-7.72 7.72c-.78.78-.78 2.05 0 2.83L4 21.41c.39.39.9.59 1.41.59.51 0 1.02-.2 1.41-.59l7.78-7.78 2.81-2.81c.8-.78.8-2.07 0-2.86zM5.41 20L4 18.59l7.72-7.72 1.47 1.35L5.41 20z\"/>\n",
              "  </svg>\n",
              "      </button>\n",
              "      \n",
              "  <style>\n",
              "    .colab-df-container {\n",
              "      display:flex;\n",
              "      flex-wrap:wrap;\n",
              "      gap: 12px;\n",
              "    }\n",
              "\n",
              "    .colab-df-convert {\n",
              "      background-color: #E8F0FE;\n",
              "      border: none;\n",
              "      border-radius: 50%;\n",
              "      cursor: pointer;\n",
              "      display: none;\n",
              "      fill: #1967D2;\n",
              "      height: 32px;\n",
              "      padding: 0 0 0 0;\n",
              "      width: 32px;\n",
              "    }\n",
              "\n",
              "    .colab-df-convert:hover {\n",
              "      background-color: #E2EBFA;\n",
              "      box-shadow: 0px 1px 2px rgba(60, 64, 67, 0.3), 0px 1px 3px 1px rgba(60, 64, 67, 0.15);\n",
              "      fill: #174EA6;\n",
              "    }\n",
              "\n",
              "    [theme=dark] .colab-df-convert {\n",
              "      background-color: #3B4455;\n",
              "      fill: #D2E3FC;\n",
              "    }\n",
              "\n",
              "    [theme=dark] .colab-df-convert:hover {\n",
              "      background-color: #434B5C;\n",
              "      box-shadow: 0px 1px 3px 1px rgba(0, 0, 0, 0.15);\n",
              "      filter: drop-shadow(0px 1px 2px rgba(0, 0, 0, 0.3));\n",
              "      fill: #FFFFFF;\n",
              "    }\n",
              "  </style>\n",
              "\n",
              "      <script>\n",
              "        const buttonEl =\n",
              "          document.querySelector('#df-9c17e7c5-42dd-4714-b1c4-8c7189cb159b button.colab-df-convert');\n",
              "        buttonEl.style.display =\n",
              "          google.colab.kernel.accessAllowed ? 'block' : 'none';\n",
              "\n",
              "        async function convertToInteractive(key) {\n",
              "          const element = document.querySelector('#df-9c17e7c5-42dd-4714-b1c4-8c7189cb159b');\n",
              "          const dataTable =\n",
              "            await google.colab.kernel.invokeFunction('convertToInteractive',\n",
              "                                                     [key], {});\n",
              "          if (!dataTable) return;\n",
              "\n",
              "          const docLinkHtml = 'Like what you see? Visit the ' +\n",
              "            '<a target=\"_blank\" href=https://colab.research.google.com/notebooks/data_table.ipynb>data table notebook</a>'\n",
              "            + ' to learn more about interactive tables.';\n",
              "          element.innerHTML = '';\n",
              "          dataTable['output_type'] = 'display_data';\n",
              "          await google.colab.output.renderOutput(dataTable, element);\n",
              "          const docLink = document.createElement('div');\n",
              "          docLink.innerHTML = docLinkHtml;\n",
              "          element.appendChild(docLink);\n",
              "        }\n",
              "      </script>\n",
              "    </div>\n",
              "  </div>\n",
              "  "
            ]
          },
          "metadata": {}
        }
      ],
      "source": [
        "recommended_meals = recommend_meals(user_id=1, userData=userData, dataSetUpdate=dataSetUpdate)\n",
        "\n",
        "for i, meal in enumerate(recommended_meals):\n",
        "    if i == 0:\n",
        "        print(\"Breakfast:\")\n",
        "    elif i == 1:\n",
        "        print(\"Lunch:\")\n",
        "    else:\n",
        "        print(\"Dinner:\")\n",
        "\n",
        "    display(meal)"
      ]
    },
    {
      "cell_type": "code",
      "source": [
        "import pickle\n",
        "\n",
        "# Save the model to a file\n",
        "with open('knn_model.pkl', 'wb') as f:\n",
        "    pickle.dump(knn, f)"
      ],
      "metadata": {
        "id": "XHYRC8ke0M9B"
      },
      "execution_count": 9,
      "outputs": []
    },
    {
      "cell_type": "code",
      "source": [
        "!ls"
      ],
      "metadata": {
        "id": "iUS9QPoq_Co7",
        "outputId": "8d7e5378-df86-46f7-baf8-a97acd72d98e",
        "colab": {
          "base_uri": "https://localhost:8080/"
        }
      },
      "execution_count": 10,
      "outputs": [
        {
          "output_type": "stream",
          "name": "stdout",
          "text": [
            "knn_model.pkl  sample_data\n"
          ]
        }
      ]
    },
    {
      "cell_type": "code",
      "source": [
        "import pickle\n",
        "import json\n",
        "\n",
        "# Path to your .pkl file\n",
        "pkl_file = 'knn_model.pkl'\n",
        "\n",
        "# Path to output JSON file\n",
        "json_file = 'knn_model.json'\n",
        "\n",
        "# Load the model from .pkl file\n",
        "with open(pkl_file, 'rb') as file:\n",
        "    model = pickle.load(file)\n",
        "\n",
        "# Convert the model to JSON\n",
        "model_json = json.dumps(model.get_params(), indent=4)\n",
        "\n",
        "# Save the JSON to file\n",
        "with open(json_file, 'w') as file:\n",
        "    file.write(model_json)\n",
        "\n",
        "print('Conversion completed.')\n"
      ],
      "metadata": {
        "colab": {
          "base_uri": "https://localhost:8080/"
        },
        "id": "bzeiiQngMaQi",
        "outputId": "ccb65400-10fd-49e7-98b6-e254fc9946ff"
      },
      "execution_count": 11,
      "outputs": [
        {
          "output_type": "stream",
          "name": "stdout",
          "text": [
            "Conversion completed.\n"
          ]
        }
      ]
    },
    {
      "cell_type": "code",
      "source": [
        "from google.colab import files"
      ],
      "metadata": {
        "id": "N6cwGNLaMgn4"
      },
      "execution_count": 13,
      "outputs": []
    },
    {
      "cell_type": "code",
      "source": [
        "files.download('knn_model.json')"
      ],
      "metadata": {
        "colab": {
          "base_uri": "https://localhost:8080/",
          "height": 17
        },
        "id": "hf4LCBimMdzw",
        "outputId": "ac83d3f5-c8f8-4770-b43e-9ad159d8db20"
      },
      "execution_count": 14,
      "outputs": [
        {
          "output_type": "display_data",
          "data": {
            "text/plain": [
              "<IPython.core.display.Javascript object>"
            ],
            "application/javascript": [
              "\n",
              "    async function download(id, filename, size) {\n",
              "      if (!google.colab.kernel.accessAllowed) {\n",
              "        return;\n",
              "      }\n",
              "      const div = document.createElement('div');\n",
              "      const label = document.createElement('label');\n",
              "      label.textContent = `Downloading \"${filename}\": `;\n",
              "      div.appendChild(label);\n",
              "      const progress = document.createElement('progress');\n",
              "      progress.max = size;\n",
              "      div.appendChild(progress);\n",
              "      document.body.appendChild(div);\n",
              "\n",
              "      const buffers = [];\n",
              "      let downloaded = 0;\n",
              "\n",
              "      const channel = await google.colab.kernel.comms.open(id);\n",
              "      // Send a message to notify the kernel that we're ready.\n",
              "      channel.send({})\n",
              "\n",
              "      for await (const message of channel.messages) {\n",
              "        // Send a message to notify the kernel that we're ready.\n",
              "        channel.send({})\n",
              "        if (message.buffers) {\n",
              "          for (const buffer of message.buffers) {\n",
              "            buffers.push(buffer);\n",
              "            downloaded += buffer.byteLength;\n",
              "            progress.value = downloaded;\n",
              "          }\n",
              "        }\n",
              "      }\n",
              "      const blob = new Blob(buffers, {type: 'application/binary'});\n",
              "      const a = document.createElement('a');\n",
              "      a.href = window.URL.createObjectURL(blob);\n",
              "      a.download = filename;\n",
              "      div.appendChild(a);\n",
              "      a.click();\n",
              "      div.remove();\n",
              "    }\n",
              "  "
            ]
          },
          "metadata": {}
        },
        {
          "output_type": "display_data",
          "data": {
            "text/plain": [
              "<IPython.core.display.Javascript object>"
            ],
            "application/javascript": [
              "download(\"download_65e4b00f-e61b-429f-b83e-425564fdada8\", \"knn_model.json\", 175)"
            ]
          },
          "metadata": {}
        }
      ]
    },
    {
      "cell_type": "code",
      "source": [
        "files.download('knn_model.json')"
      ],
      "metadata": {
        "colab": {
          "base_uri": "https://localhost:8080/",
          "height": 17
        },
        "id": "074pWihhMjjx",
        "outputId": "e7ee3ef0-528f-415a-b888-629251f1a3c8"
      },
      "execution_count": 15,
      "outputs": [
        {
          "output_type": "display_data",
          "data": {
            "text/plain": [
              "<IPython.core.display.Javascript object>"
            ],
            "application/javascript": [
              "\n",
              "    async function download(id, filename, size) {\n",
              "      if (!google.colab.kernel.accessAllowed) {\n",
              "        return;\n",
              "      }\n",
              "      const div = document.createElement('div');\n",
              "      const label = document.createElement('label');\n",
              "      label.textContent = `Downloading \"${filename}\": `;\n",
              "      div.appendChild(label);\n",
              "      const progress = document.createElement('progress');\n",
              "      progress.max = size;\n",
              "      div.appendChild(progress);\n",
              "      document.body.appendChild(div);\n",
              "\n",
              "      const buffers = [];\n",
              "      let downloaded = 0;\n",
              "\n",
              "      const channel = await google.colab.kernel.comms.open(id);\n",
              "      // Send a message to notify the kernel that we're ready.\n",
              "      channel.send({})\n",
              "\n",
              "      for await (const message of channel.messages) {\n",
              "        // Send a message to notify the kernel that we're ready.\n",
              "        channel.send({})\n",
              "        if (message.buffers) {\n",
              "          for (const buffer of message.buffers) {\n",
              "            buffers.push(buffer);\n",
              "            downloaded += buffer.byteLength;\n",
              "            progress.value = downloaded;\n",
              "          }\n",
              "        }\n",
              "      }\n",
              "      const blob = new Blob(buffers, {type: 'application/binary'});\n",
              "      const a = document.createElement('a');\n",
              "      a.href = window.URL.createObjectURL(blob);\n",
              "      a.download = filename;\n",
              "      div.appendChild(a);\n",
              "      a.click();\n",
              "      div.remove();\n",
              "    }\n",
              "  "
            ]
          },
          "metadata": {}
        },
        {
          "output_type": "display_data",
          "data": {
            "text/plain": [
              "<IPython.core.display.Javascript object>"
            ],
            "application/javascript": [
              "download(\"download_0fe3991b-be65-4e15-8e9a-3e8f7958b726\", \"knn_model.json\", 175)"
            ]
          },
          "metadata": {}
        }
      ]
    }
  ],
  "metadata": {
    "kernelspec": {
      "display_name": "Python 3",
      "language": "python",
      "name": "python3"
    },
    "language_info": {
      "codemirror_mode": {
        "name": "ipython",
        "version": 3
      },
      "file_extension": ".py",
      "mimetype": "text/x-python",
      "name": "python",
      "nbconvert_exporter": "python",
      "pygments_lexer": "ipython3",
      "version": "3.7.2"
    },
    "orig_nbformat": 4,
    "colab": {
      "provenance": []
    }
  },
  "nbformat": 4,
  "nbformat_minor": 0
}